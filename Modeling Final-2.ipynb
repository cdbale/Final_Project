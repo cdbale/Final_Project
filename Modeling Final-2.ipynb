{
 "cells": [
  {
   "cell_type": "markdown",
   "metadata": {},
   "source": [
    "# Modeling\n",
    "Our classes (win versus loss) are almost perfectly balanced, meaning accuracy is a good way to see how well we've done. For completion, however, we include precision, recall, and F1. \n",
    "\n",
    "Method: Teach the machine to predict who will win given a game. Then, run the model on 2018 round 1, take those predicted wins, run the model on those games, etc. until we have an entire bracket. \n",
    "\n",
    "To Add:\n",
    "    1. Correlation Heat Map\n",
    "    2. Feature Importance Graphs given each model\n",
    "    3. Actual predictions for 2018"
   ]
  },
  {
   "cell_type": "code",
   "execution_count": 1,
   "metadata": {},
   "outputs": [],
   "source": [
    "import numpy as np\n",
    "import pandas as pd\n",
    "\n",
    "from sklearn.model_selection import cross_val_score\n",
    "from sklearn.metrics import precision_recall_fscore_support\n",
    "from sklearn.metrics import f1_score\n",
    "from sklearn.metrics import accuracy_score\n",
    "from sklearn.metrics import confusion_matrix\n",
    "from sklearn.model_selection import GridSearchCV\n",
    "import pprint\n",
    "\n",
    "# Model imports\n",
    "from sklearn.svm import LinearSVC\n",
    "from sklearn.naive_bayes import GaussianNB\n",
    "from sklearn.linear_model import LogisticRegressionCV\n",
    "from sklearn.neighbors import KNeighborsClassifier\n",
    "from sklearn.ensemble import RandomForestClassifier\n",
    "from xgboost import XGBClassifier\n",
    "from sklearn.ensemble import GradientBoostingClassifier\n",
    "\n",
    "# Suppressing warnings\n",
    "import warnings\n",
    "warnings.filterwarnings(\"ignore\")\n"
   ]
  },
  {
   "cell_type": "code",
   "execution_count": 2,
   "metadata": {},
   "outputs": [],
   "source": [
    "X = pd.read_csv(\"/Users/Neil/Desktop/X.csv\")\n",
    "y = pd.read_csv(\"/Users/Neil/Desktop/y.csv\")"
   ]
  },
  {
   "cell_type": "code",
   "execution_count": 3,
   "metadata": {},
   "outputs": [],
   "source": [
    "del X['f_Seed_region'], X['s_Seed_region'], X['WTeamID'], X['LTeamID'], X['Season']\n",
    "\n",
    "seed_diff = pd.DataFrame(X['f_Seed_no'] - X['s_Seed_no'])\n",
    "elo_diff = pd.DataFrame(X['WTeamElo'] - X['LTeamElo'])\n",
    "X['seed_diff'] = seed_diff\n",
    "X['elo_diff'] = elo_diff"
   ]
  },
  {
   "cell_type": "code",
   "execution_count": 4,
   "metadata": {},
   "outputs": [
    {
     "data": {
      "text/plain": [
       "(981, 46)"
      ]
     },
     "execution_count": 4,
     "metadata": {},
     "output_type": "execute_result"
    }
   ],
   "source": [
    "X.shape"
   ]
  },
  {
   "cell_type": "code",
   "execution_count": 5,
   "metadata": {},
   "outputs": [],
   "source": [
    "#Creating train and test data\n",
    "X_train = X[:713]\n",
    "y_train = y[:713]\n",
    "X_test = X[713:]\n",
    "y_test = y[713:]"
   ]
  },
  {
   "cell_type": "code",
   "execution_count": 6,
   "metadata": {},
   "outputs": [
    {
     "data": {
      "text/plain": [
       "GridSearchCV(cv=None, error_score='raise',\n",
       "       estimator=GradientBoostingClassifier(criterion='friedman_mse', init=None,\n",
       "              learning_rate=0.1, loss='deviance', max_depth=3,\n",
       "              max_features=None, max_leaf_nodes=None,\n",
       "              min_impurity_decrease=0.0, min_impurity_split=None,\n",
       "              min_samples_leaf=1, min_samples_split=2,\n",
       "              min_weight_fraction_leaf=0.0, n_estimators=100,\n",
       "              presort='auto', random_state=None, subsample=1.0, verbose=0,\n",
       "              warm_start=False),\n",
       "       fit_params=None, iid=True, n_jobs=1,\n",
       "       param_grid={'learning_rate': [0.1, 0.01, 0.001], 'n_estimators': [100, 1000, 5000], 'max_depth': [1, 2, 3]},\n",
       "       pre_dispatch='2*n_jobs', refit=True, return_train_score='warn',\n",
       "       scoring='accuracy', verbose=0)"
      ]
     },
     "execution_count": 6,
     "metadata": {},
     "output_type": "execute_result"
    }
   ],
   "source": [
    "model_svm = LinearSVC()\n",
    "model_gnb = GaussianNB()\n",
    "model_lrc = LogisticRegressionCV()\n",
    "model_knn = KNeighborsClassifier()\n",
    "model_rfc = RandomForestClassifier()\n",
    "model_xgb = XGBClassifier()\n",
    "model_gbc = GradientBoostingClassifier()\n",
    "\n",
    "model_gsc = GridSearchCV(model_gbc, {\"learning_rate\": [.1, .01, .001], \"n_estimators\": [100, 1000, 5000], \n",
    "                                'max_depth': [1, 2, 3]}, scoring='accuracy')\n",
    "\n",
    "model_svm.fit(X_train,y_train)\n",
    "model_gnb.fit(X_train,y_train)\n",
    "model_lrc.fit(X_train,y_train)\n",
    "model_knn.fit(X_train,y_train)\n",
    "model_rfc.fit(X_train,y_train)\n",
    "model_xgb.fit(X_train,y_train)\n",
    "model_gsc.fit(X_train,y_train)"
   ]
  },
  {
   "cell_type": "code",
   "execution_count": 7,
   "metadata": {},
   "outputs": [],
   "source": [
    "svm_pred = model_svm.predict(X_test)\n",
    "gnb_pred = model_gnb.predict(X_test)\n",
    "lrc_pred = model_lrc.predict(X_test)\n",
    "knn_pred = model_knn.predict(X_test)\n",
    "rfc_pred = model_rfc.predict(X_test)\n",
    "xgb_pred = model_xgb.predict(X_test)\n",
    "gsc_pred = model_gsc.predict(X_test)"
   ]
  },
  {
   "cell_type": "code",
   "execution_count": 8,
   "metadata": {},
   "outputs": [],
   "source": [
    "svm_preds = pd.DataFrame(svm_pred)\n",
    "gnb_preds = pd.DataFrame(gnb_pred)\n",
    "lrc_preds = pd.DataFrame(lrc_pred)\n",
    "knn_preds = pd.DataFrame(knn_pred)\n",
    "rfc_preds = pd.DataFrame(rfc_pred)\n",
    "xgb_preds = pd.DataFrame(xgb_pred)\n",
    "gsc_preds = pd.DataFrame(gsc_pred)"
   ]
  },
  {
   "cell_type": "code",
   "execution_count": 9,
   "metadata": {},
   "outputs": [
    {
     "name": "stdout",
     "output_type": "stream",
     "text": [
      "SVM test acc: 0.6007462686567164\n"
     ]
    }
   ],
   "source": [
    "print(\"SVM test acc: {}\".format(accuracy_score(y_test, svm_preds)))"
   ]
  },
  {
   "cell_type": "code",
   "execution_count": 10,
   "metadata": {},
   "outputs": [
    {
     "name": "stdout",
     "output_type": "stream",
     "text": [
      "Gaussian NB test acc: 0.6902985074626866\n"
     ]
    }
   ],
   "source": [
    "print(\"Gaussian NB test acc: {}\".format(accuracy_score(y_test, gnb_preds)))"
   ]
  },
  {
   "cell_type": "code",
   "execution_count": 11,
   "metadata": {},
   "outputs": [
    {
     "name": "stdout",
     "output_type": "stream",
     "text": [
      "Logistic Regression test acc: 0.7164179104477612\n"
     ]
    }
   ],
   "source": [
    "print(\"Logistic Regression test acc: {}\".format(accuracy_score(y_test, lrc_preds)))"
   ]
  },
  {
   "cell_type": "code",
   "execution_count": 12,
   "metadata": {},
   "outputs": [
    {
     "name": "stdout",
     "output_type": "stream",
     "text": [
      "K-Nearest Neighbors test acc: 0.7947761194029851\n"
     ]
    }
   ],
   "source": [
    "print(\"K-Nearest Neighbors test acc: {}\".format(accuracy_score(y_test, knn_preds)))"
   ]
  },
  {
   "cell_type": "code",
   "execution_count": 13,
   "metadata": {},
   "outputs": [
    {
     "name": "stdout",
     "output_type": "stream",
     "text": [
      "Random Forest test acc: 0.7574626865671642\n"
     ]
    }
   ],
   "source": [
    "print(\"Random Forest test acc: {}\".format(accuracy_score(y_test, rfc_preds)))"
   ]
  },
  {
   "cell_type": "code",
   "execution_count": 14,
   "metadata": {},
   "outputs": [
    {
     "name": "stdout",
     "output_type": "stream",
     "text": [
      "XGBoost test acc: 0.8097014925373134\n"
     ]
    }
   ],
   "source": [
    "print(\"XGBoost test acc: {}\".format(accuracy_score(y_test, xgb_preds)))"
   ]
  },
  {
   "cell_type": "code",
   "execution_count": 15,
   "metadata": {},
   "outputs": [
    {
     "name": "stdout",
     "output_type": "stream",
     "text": [
      "Gradient Boosting test acc: 0.7723880597014925\n"
     ]
    }
   ],
   "source": [
    "print(\"Gradient Boosting test acc: {}\".format(accuracy_score(y_test, gsc_preds)))"
   ]
  },
  {
   "cell_type": "code",
   "execution_count": 16,
   "metadata": {},
   "outputs": [
    {
     "data": {
      "text/plain": [
       "array([[ 32, 105],\n",
       "       [  2, 129]])"
      ]
     },
     "execution_count": 16,
     "metadata": {},
     "output_type": "execute_result"
    }
   ],
   "source": [
    "confusion_matrix(y_test, svm_preds)"
   ]
  },
  {
   "cell_type": "code",
   "execution_count": 17,
   "metadata": {},
   "outputs": [
    {
     "data": {
      "text/plain": [
       "array([[92, 45],\n",
       "       [38, 93]])"
      ]
     },
     "execution_count": 17,
     "metadata": {},
     "output_type": "execute_result"
    }
   ],
   "source": [
    "confusion_matrix(y_test, gnb_preds)"
   ]
  },
  {
   "cell_type": "code",
   "execution_count": 18,
   "metadata": {},
   "outputs": [
    {
     "data": {
      "text/plain": [
       "array([[97, 40],\n",
       "       [36, 95]])"
      ]
     },
     "execution_count": 18,
     "metadata": {},
     "output_type": "execute_result"
    }
   ],
   "source": [
    "confusion_matrix(y_test, lrc_preds)"
   ]
  },
  {
   "cell_type": "code",
   "execution_count": 19,
   "metadata": {},
   "outputs": [
    {
     "data": {
      "text/plain": [
       "array([[110,  27],\n",
       "       [ 28, 103]])"
      ]
     },
     "execution_count": 19,
     "metadata": {},
     "output_type": "execute_result"
    }
   ],
   "source": [
    "confusion_matrix(y_test, knn_preds)"
   ]
  },
  {
   "cell_type": "code",
   "execution_count": 20,
   "metadata": {},
   "outputs": [
    {
     "data": {
      "text/plain": [
       "array([[109,  28],\n",
       "       [ 37,  94]])"
      ]
     },
     "execution_count": 20,
     "metadata": {},
     "output_type": "execute_result"
    }
   ],
   "source": [
    "confusion_matrix(y_test, rfc_preds)"
   ]
  },
  {
   "cell_type": "code",
   "execution_count": 21,
   "metadata": {},
   "outputs": [
    {
     "data": {
      "text/plain": [
       "array([[114,  23],\n",
       "       [ 28, 103]])"
      ]
     },
     "execution_count": 21,
     "metadata": {},
     "output_type": "execute_result"
    }
   ],
   "source": [
    "confusion_matrix(y_test, xgb_preds)"
   ]
  },
  {
   "cell_type": "code",
   "execution_count": 22,
   "metadata": {},
   "outputs": [
    {
     "data": {
      "text/plain": [
       "array([[112,  25],\n",
       "       [ 36,  95]])"
      ]
     },
     "execution_count": 22,
     "metadata": {},
     "output_type": "execute_result"
    }
   ],
   "source": [
    "confusion_matrix(y_test, gsc_preds)"
   ]
  },
  {
   "cell_type": "code",
   "execution_count": 23,
   "metadata": {},
   "outputs": [
    {
     "name": "stdout",
     "output_type": "stream",
     "text": [
      "SVM Test:\n",
      "(array([0.94117647, 0.55128205]),\n",
      " array([0.23357664, 0.98473282]),\n",
      " array([0.37426901, 0.70684932]),\n",
      " array([137, 131]))\n"
     ]
    }
   ],
   "source": [
    "print(\"SVM Test:\")\n",
    "pprint.pprint(precision_recall_fscore_support(y_test, svm_preds))"
   ]
  },
  {
   "cell_type": "code",
   "execution_count": 24,
   "metadata": {},
   "outputs": [
    {
     "name": "stdout",
     "output_type": "stream",
     "text": [
      "GNB Test:\n",
      "(array([0.70769231, 0.67391304]),\n",
      " array([0.67153285, 0.70992366]),\n",
      " array([0.68913858, 0.69144981]),\n",
      " array([137, 131]))\n"
     ]
    }
   ],
   "source": [
    "print(\"GNB Test:\")\n",
    "pprint.pprint(precision_recall_fscore_support(y_test, gnb_preds))"
   ]
  },
  {
   "cell_type": "code",
   "execution_count": 25,
   "metadata": {},
   "outputs": [
    {
     "name": "stdout",
     "output_type": "stream",
     "text": [
      "LRC Test:\n",
      "(array([0.72932331, 0.7037037 ]),\n",
      " array([0.7080292 , 0.72519084]),\n",
      " array([0.71851852, 0.71428571]),\n",
      " array([137, 131]))\n"
     ]
    }
   ],
   "source": [
    "print(\"LRC Test:\")\n",
    "pprint.pprint(precision_recall_fscore_support(y_test, lrc_preds))"
   ]
  },
  {
   "cell_type": "code",
   "execution_count": 26,
   "metadata": {},
   "outputs": [
    {
     "name": "stdout",
     "output_type": "stream",
     "text": [
      "KNN Test:\n",
      "(array([0.79710145, 0.79230769]),\n",
      " array([0.80291971, 0.78625954]),\n",
      " array([0.8       , 0.78927203]),\n",
      " array([137, 131]))\n"
     ]
    }
   ],
   "source": [
    "print(\"KNN Test:\")\n",
    "pprint.pprint(precision_recall_fscore_support(y_test, knn_preds))"
   ]
  },
  {
   "cell_type": "code",
   "execution_count": 27,
   "metadata": {},
   "outputs": [
    {
     "name": "stdout",
     "output_type": "stream",
     "text": [
      "RFC Test:\n",
      "(array([0.74657534, 0.7704918 ]),\n",
      " array([0.79562044, 0.71755725]),\n",
      " array([0.77031802, 0.743083  ]),\n",
      " array([137, 131]))\n"
     ]
    }
   ],
   "source": [
    "print(\"RFC Test:\")\n",
    "pprint.pprint(precision_recall_fscore_support(y_test, rfc_preds))"
   ]
  },
  {
   "cell_type": "code",
   "execution_count": 28,
   "metadata": {},
   "outputs": [
    {
     "name": "stdout",
     "output_type": "stream",
     "text": [
      "XGB Test:\n",
      "(array([0.8028169 , 0.81746032]),\n",
      " array([0.83211679, 0.78625954]),\n",
      " array([0.8172043 , 0.80155642]),\n",
      " array([137, 131]))\n"
     ]
    }
   ],
   "source": [
    "print(\"XGB Test:\")\n",
    "pprint.pprint(precision_recall_fscore_support(y_test, xgb_preds))"
   ]
  },
  {
   "cell_type": "code",
   "execution_count": 29,
   "metadata": {},
   "outputs": [
    {
     "name": "stdout",
     "output_type": "stream",
     "text": [
      "GBC Test:\n",
      "(array([0.75675676, 0.79166667]),\n",
      " array([0.81751825, 0.72519084]),\n",
      " array([0.78596491, 0.75697211]),\n",
      " array([137, 131]))\n"
     ]
    }
   ],
   "source": [
    "print(\"GBC Test:\")\n",
    "pprint.pprint(precision_recall_fscore_support(y_test, gsc_preds))"
   ]
  },
  {
   "cell_type": "code",
   "execution_count": 30,
   "metadata": {},
   "outputs": [
    {
     "data": {
      "text/html": [
       "<div>\n",
       "<style scoped>\n",
       "    .dataframe tbody tr th:only-of-type {\n",
       "        vertical-align: middle;\n",
       "    }\n",
       "\n",
       "    .dataframe tbody tr th {\n",
       "        vertical-align: top;\n",
       "    }\n",
       "\n",
       "    .dataframe thead th {\n",
       "        text-align: right;\n",
       "    }\n",
       "</style>\n",
       "<table border=\"1\" class=\"dataframe\">\n",
       "  <thead>\n",
       "    <tr style=\"text-align: right;\">\n",
       "      <th></th>\n",
       "      <th>importance</th>\n",
       "    </tr>\n",
       "  </thead>\n",
       "  <tbody>\n",
       "    <tr>\n",
       "      <th>elo_diff</th>\n",
       "      <td>0.192308</td>\n",
       "    </tr>\n",
       "    <tr>\n",
       "      <th>seed_diff</th>\n",
       "      <td>0.075321</td>\n",
       "    </tr>\n",
       "    <tr>\n",
       "      <th>WTeamElo</th>\n",
       "      <td>0.060897</td>\n",
       "    </tr>\n",
       "    <tr>\n",
       "      <th>f_rank</th>\n",
       "      <td>0.057692</td>\n",
       "    </tr>\n",
       "    <tr>\n",
       "      <th>s_rank</th>\n",
       "      <td>0.040064</td>\n",
       "    </tr>\n",
       "    <tr>\n",
       "      <th>f_diff</th>\n",
       "      <td>0.038462</td>\n",
       "    </tr>\n",
       "    <tr>\n",
       "      <th>s_Blk</th>\n",
       "      <td>0.035256</td>\n",
       "    </tr>\n",
       "    <tr>\n",
       "      <th>s_DR</th>\n",
       "      <td>0.027244</td>\n",
       "    </tr>\n",
       "    <tr>\n",
       "      <th>f_PF</th>\n",
       "      <td>0.025641</td>\n",
       "    </tr>\n",
       "    <tr>\n",
       "      <th>s_EScore</th>\n",
       "      <td>0.024038</td>\n",
       "    </tr>\n",
       "    <tr>\n",
       "      <th>f_Score</th>\n",
       "      <td>0.024038</td>\n",
       "    </tr>\n",
       "    <tr>\n",
       "      <th>s_FGM3</th>\n",
       "      <td>0.024038</td>\n",
       "    </tr>\n",
       "    <tr>\n",
       "      <th>f_FTM</th>\n",
       "      <td>0.024038</td>\n",
       "    </tr>\n",
       "    <tr>\n",
       "      <th>LTeamElo</th>\n",
       "      <td>0.022436</td>\n",
       "    </tr>\n",
       "    <tr>\n",
       "      <th>f_EScore</th>\n",
       "      <td>0.020833</td>\n",
       "    </tr>\n",
       "    <tr>\n",
       "      <th>s_diff</th>\n",
       "      <td>0.020833</td>\n",
       "    </tr>\n",
       "    <tr>\n",
       "      <th>f_TO</th>\n",
       "      <td>0.020833</td>\n",
       "    </tr>\n",
       "    <tr>\n",
       "      <th>s_Ast</th>\n",
       "      <td>0.019231</td>\n",
       "    </tr>\n",
       "    <tr>\n",
       "      <th>f_OR</th>\n",
       "      <td>0.017628</td>\n",
       "    </tr>\n",
       "    <tr>\n",
       "      <th>s_FGM2</th>\n",
       "      <td>0.017628</td>\n",
       "    </tr>\n",
       "    <tr>\n",
       "      <th>f_FGA2</th>\n",
       "      <td>0.017628</td>\n",
       "    </tr>\n",
       "    <tr>\n",
       "      <th>f_Ast</th>\n",
       "      <td>0.014423</td>\n",
       "    </tr>\n",
       "    <tr>\n",
       "      <th>s_FGA</th>\n",
       "      <td>0.014423</td>\n",
       "    </tr>\n",
       "    <tr>\n",
       "      <th>f_Blk</th>\n",
       "      <td>0.014423</td>\n",
       "    </tr>\n",
       "    <tr>\n",
       "      <th>f_FGM2</th>\n",
       "      <td>0.014423</td>\n",
       "    </tr>\n",
       "    <tr>\n",
       "      <th>f_FGM</th>\n",
       "      <td>0.012821</td>\n",
       "    </tr>\n",
       "    <tr>\n",
       "      <th>f_Stl</th>\n",
       "      <td>0.012821</td>\n",
       "    </tr>\n",
       "    <tr>\n",
       "      <th>f_coach</th>\n",
       "      <td>0.011218</td>\n",
       "    </tr>\n",
       "    <tr>\n",
       "      <th>s_coach</th>\n",
       "      <td>0.009615</td>\n",
       "    </tr>\n",
       "    <tr>\n",
       "      <th>f_Seed_no</th>\n",
       "      <td>0.009615</td>\n",
       "    </tr>\n",
       "    <tr>\n",
       "      <th>s_FGM</th>\n",
       "      <td>0.009615</td>\n",
       "    </tr>\n",
       "    <tr>\n",
       "      <th>f_FGA3</th>\n",
       "      <td>0.008013</td>\n",
       "    </tr>\n",
       "    <tr>\n",
       "      <th>s_FTA</th>\n",
       "      <td>0.008013</td>\n",
       "    </tr>\n",
       "    <tr>\n",
       "      <th>f_DR</th>\n",
       "      <td>0.006410</td>\n",
       "    </tr>\n",
       "    <tr>\n",
       "      <th>s_PF</th>\n",
       "      <td>0.006410</td>\n",
       "    </tr>\n",
       "    <tr>\n",
       "      <th>s_FGA2</th>\n",
       "      <td>0.006410</td>\n",
       "    </tr>\n",
       "    <tr>\n",
       "      <th>s_Score</th>\n",
       "      <td>0.006410</td>\n",
       "    </tr>\n",
       "    <tr>\n",
       "      <th>f_FGM3</th>\n",
       "      <td>0.004808</td>\n",
       "    </tr>\n",
       "    <tr>\n",
       "      <th>s_Stl</th>\n",
       "      <td>0.004808</td>\n",
       "    </tr>\n",
       "    <tr>\n",
       "      <th>s_FGA3</th>\n",
       "      <td>0.004808</td>\n",
       "    </tr>\n",
       "    <tr>\n",
       "      <th>f_FTA</th>\n",
       "      <td>0.004808</td>\n",
       "    </tr>\n",
       "    <tr>\n",
       "      <th>f_FGA</th>\n",
       "      <td>0.003205</td>\n",
       "    </tr>\n",
       "    <tr>\n",
       "      <th>s_Seed_no</th>\n",
       "      <td>0.001603</td>\n",
       "    </tr>\n",
       "    <tr>\n",
       "      <th>s_TO</th>\n",
       "      <td>0.001603</td>\n",
       "    </tr>\n",
       "    <tr>\n",
       "      <th>s_OR</th>\n",
       "      <td>0.001603</td>\n",
       "    </tr>\n",
       "    <tr>\n",
       "      <th>s_FTM</th>\n",
       "      <td>0.001603</td>\n",
       "    </tr>\n",
       "  </tbody>\n",
       "</table>\n",
       "</div>"
      ],
      "text/plain": [
       "           importance\n",
       "elo_diff     0.192308\n",
       "seed_diff    0.075321\n",
       "WTeamElo     0.060897\n",
       "f_rank       0.057692\n",
       "s_rank       0.040064\n",
       "f_diff       0.038462\n",
       "s_Blk        0.035256\n",
       "s_DR         0.027244\n",
       "f_PF         0.025641\n",
       "s_EScore     0.024038\n",
       "f_Score      0.024038\n",
       "s_FGM3       0.024038\n",
       "f_FTM        0.024038\n",
       "LTeamElo     0.022436\n",
       "f_EScore     0.020833\n",
       "s_diff       0.020833\n",
       "f_TO         0.020833\n",
       "s_Ast        0.019231\n",
       "f_OR         0.017628\n",
       "s_FGM2       0.017628\n",
       "f_FGA2       0.017628\n",
       "f_Ast        0.014423\n",
       "s_FGA        0.014423\n",
       "f_Blk        0.014423\n",
       "f_FGM2       0.014423\n",
       "f_FGM        0.012821\n",
       "f_Stl        0.012821\n",
       "f_coach      0.011218\n",
       "s_coach      0.009615\n",
       "f_Seed_no    0.009615\n",
       "s_FGM        0.009615\n",
       "f_FGA3       0.008013\n",
       "s_FTA        0.008013\n",
       "f_DR         0.006410\n",
       "s_PF         0.006410\n",
       "s_FGA2       0.006410\n",
       "s_Score      0.006410\n",
       "f_FGM3       0.004808\n",
       "s_Stl        0.004808\n",
       "s_FGA3       0.004808\n",
       "f_FTA        0.004808\n",
       "f_FGA        0.003205\n",
       "s_Seed_no    0.001603\n",
       "s_TO         0.001603\n",
       "s_OR         0.001603\n",
       "s_FTM        0.001603"
      ]
     },
     "execution_count": 30,
     "metadata": {},
     "output_type": "execute_result"
    }
   ],
   "source": [
    "feature_importances = pd.DataFrame(model_xgb.feature_importances_, index = X_train.columns, \n",
    "                                   columns=['importance']).sort_values('importance', ascending=False)\n",
    "feature_importances"
   ]
  },
  {
   "cell_type": "code",
   "execution_count": 31,
   "metadata": {},
   "outputs": [
    {
     "data": {
      "text/plain": [
       "0    502\n",
       "1    479\n",
       "Name: winning, dtype: int64"
      ]
     },
     "execution_count": 31,
     "metadata": {},
     "output_type": "execute_result"
    }
   ],
   "source": [
    "y['winning'].value_counts()\n"
   ]
  },
  {
   "cell_type": "code",
   "execution_count": null,
   "metadata": {},
   "outputs": [],
   "source": []
  },
  {
   "cell_type": "code",
   "execution_count": null,
   "metadata": {},
   "outputs": [],
   "source": []
  },
  {
   "cell_type": "code",
   "execution_count": null,
   "metadata": {},
   "outputs": [],
   "source": []
  },
  {
   "cell_type": "code",
   "execution_count": null,
   "metadata": {},
   "outputs": [],
   "source": []
  },
  {
   "cell_type": "code",
   "execution_count": null,
   "metadata": {},
   "outputs": [],
   "source": []
  }
 ],
 "metadata": {
  "kernelspec": {
   "display_name": "Python 3",
   "language": "python",
   "name": "python3"
  },
  "language_info": {
   "codemirror_mode": {
    "name": "ipython",
    "version": 3
   },
   "file_extension": ".py",
   "mimetype": "text/x-python",
   "name": "python",
   "nbconvert_exporter": "python",
   "pygments_lexer": "ipython3",
   "version": "3.6.5"
  }
 },
 "nbformat": 4,
 "nbformat_minor": 2
}
